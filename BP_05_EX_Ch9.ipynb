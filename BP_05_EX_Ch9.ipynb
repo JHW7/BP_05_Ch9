{
  "nbformat": 4,
  "nbformat_minor": 0,
  "metadata": {
    "colab": {
      "provenance": [],
      "authorship_tag": "ABX9TyNaubeWHd5JrN0aaqNOa8/N",
      "include_colab_link": true
    },
    "kernelspec": {
      "name": "python3",
      "display_name": "Python 3"
    },
    "language_info": {
      "name": "python"
    }
  },
  "cells": [
    {
      "cell_type": "markdown",
      "metadata": {
        "id": "view-in-github",
        "colab_type": "text"
      },
      "source": [
        "<a href=\"https://colab.research.google.com/github/JHW7/BP_05_Ch9/blob/main/BP_05_EX_Ch9.ipynb\" target=\"_parent\"><img src=\"https://colab.research.google.com/assets/colab-badge.svg\" alt=\"Open In Colab\"/></a>"
      ]
    },
    {
      "cell_type": "markdown",
      "source": [
        "1. 사용자로부터 5개의 숫자를 읽어서 리스트에 저장하고 숫자들의 평균을 계산하여 출력하는 프로그램을 작성해보자."
      ],
      "metadata": {
        "id": "D3k4ECbf42gZ"
      }
    },
    {
      "cell_type": "code",
      "execution_count": null,
      "metadata": {
        "colab": {
          "base_uri": "https://localhost:8080/"
        },
        "id": "FlIdmx_C42Bx",
        "outputId": "a789507e-7e03-495e-ec86-9ff901fcce5d"
      },
      "outputs": [
        {
          "output_type": "stream",
          "name": "stdout",
          "text": [
            "정수를 입력하시오: 10\n",
            "정수를 입력하시오: 20\n",
            "정수를 입력하시오: 30\n",
            "정수를 입력하시오: 40\n",
            "정수를 입력하시오: 50\n",
            "평균= 30.0\n"
          ]
        }
      ],
      "source": [
        "alist = []\n",
        "sum = 0\n",
        "for i in range(5):\n",
        "  i = int(input(\"정수를 입력하시오: \"))\n",
        "  alist.append(i)\n",
        "for i in alist:\n",
        "  sum += i\n",
        "avg = sum/len(alist)\n",
        "print(\"평균=\",avg)"
      ]
    },
    {
      "cell_type": "markdown",
      "source": [
        "2. 주사위를 던져서 나오는 값들의 빈도를 계산하는 프로그램을 작성해보자. 즉 1, 2, 3, 4, 5, 6의 값이 각각 몇 번이나 나오는지를 계산한다. 난수 발생 함수와 리스트를 사용해보자."
      ],
      "metadata": {
        "id": "Lwb_qWAb5Wzf"
      }
    },
    {
      "cell_type": "code",
      "source": [
        "import random\n",
        "counters = [0,0,0,0,0,0]\n",
        "for i in range(1000):\n",
        "  value = random.randint(0,5)\n",
        "  counters[value] = counters[value] + 1\n",
        "for i in range(6):\n",
        "  print(\"주사위가\", i+1, \"인 경우는\", counters[i], \"번\")"
      ],
      "metadata": {
        "colab": {
          "base_uri": "https://localhost:8080/"
        },
        "id": "U1UrurBy5jtl",
        "outputId": "8d1ef57a-3230-4759-de54-e6d6e3d52d95"
      },
      "execution_count": null,
      "outputs": [
        {
          "output_type": "stream",
          "name": "stdout",
          "text": [
            "주사위가 1 인 경우는 173 번\n",
            "주사위가 2 인 경우는 186 번\n",
            "주사위가 3 인 경우는 150 번\n",
            "주사위가 4 인 경우는 168 번\n",
            "주사위가 5 인 경우는 186 번\n",
            "주사위가 6 인 경우는 137 번\n"
          ]
        }
      ]
    },
    {
      "cell_type": "markdown",
      "source": [
        "3. 딕셔너리를 사용하여서 친구들의 이름과 전화번호를 저장해보자. 사용자로부터 친구들의 이름과 전화번호를 입력받고 딕셔너리에 저장한다. 이름을 입력하지 않고 엔터키를 치면 검색모드가 된다. 검색 모드에서는 친구들의 이름으로 전화번호를 검색할 수 있도록 한다."
      ],
      "metadata": {
        "id": "ePcBbx6L6ChP"
      }
    },
    {
      "cell_type": "code",
      "source": [
        "contacts = {}\n",
        "while True:\n",
        "  name = input(\"(입력모드)이름을 입력하시오: \")\n",
        "  if not name:\n",
        "    break;\n",
        "  tel = input(\"전화번호를 입력하시오: \")\n",
        "  contacts[name] = tel\n",
        "while True:\n",
        "  name = input(\"(검색모드)이름을 입력하시오: \")\n",
        "  if not name:\n",
        "    break;\n",
        "  if name in contacts:\n",
        "    print(name, \"의 전화번호는\", contacts[name], \"입니다.\")"
      ],
      "metadata": {
        "colab": {
          "base_uri": "https://localhost:8080/"
        },
        "id": "fmEReAgj6QEN",
        "outputId": "dc837464-d2ed-46a9-d9ae-6b1cec468460"
      },
      "execution_count": null,
      "outputs": [
        {
          "name": "stdout",
          "output_type": "stream",
          "text": [
            "(입력모드)이름을 입력하시오: 장형욱\n",
            "전화번호를 입력하시오: 222-3333\n",
            "(입력모드)이름을 입력하시오: 홍길동\n",
            "전화번호를 입력하시오: 444-5555\n",
            "(입력모드)이름을 입력하시오: \n",
            "(검색모드)이름을 입력하시오: 장형욱\n",
            "장형욱 의 전화번호는 222-3333 입니다.\n",
            "(검색모드)이름을 입력하시오: \n"
          ]
        }
      ]
    },
    {
      "cell_type": "markdown",
      "source": [
        "4. 색상을 리스트에 저장한다. 리스트에 저장된 색상을 하나씩 꺼내어 거북이의 색상으로 설정하면서 속이 채워진 사각형을 그린느 프로그램을 작성해보자. (IDLE)"
      ],
      "metadata": {
        "id": "jiU3YYhZ75dv"
      }
    },
    {
      "cell_type": "markdown",
      "source": [
        "5. 색상을 리스트에 저장한다. 리스트에 저장된 색상을 하나씩 꺼내어 거북이의 색상으로 설정하면서 속이 채워진 다각형을 그리는 프로그램을 작성해보자. (IDLE)"
      ],
      "metadata": {
        "id": "J8_y-dds8G_v"
      }
    },
    {
      "cell_type": "markdown",
      "source": [
        "6. 색상을 리스트에 저장한다. 리스트에 저장된 색상을 하나씩 꺼내어 거북이의 색상으로 설정하면서 속이 채워진 별을 랜덤한 위치에 그리는 프로그램을 작성해보자. (IDLE)"
      ],
      "metadata": {
        "id": "-XWbYDU1AYzS"
      }
    },
    {
      "cell_type": "markdown",
      "source": [
        "7. 인터넷 도메인의 약자와 해당되는 국가를 딕셔너리에 저장해보자. 예를 들어서 \"kr은\" 대한민국으로 저장되어야 한다. 딕셔너리를 순회하면서 모든 키와 값을 출력하는 프로그램을 작성해보자. "
      ],
      "metadata": {
        "id": "RXHDoN5vnyCb"
      }
    },
    {
      "cell_type": "code",
      "source": [
        "domains = {\"kr\": \"대한민국\", \"us\": \"미국\", \"jp\": \"일본\", \"de\": \"독일\", \"sk\": \"슬로바키아\", \"hu\": \"헝가리\", \"no\": \"노르웨이\"}\n",
        "for k, v in domains.items():\n",
        "  print(k, \":\", v)"
      ],
      "metadata": {
        "colab": {
          "base_uri": "https://localhost:8080/"
        },
        "id": "DzwytSbYoBG9",
        "outputId": "6d7b4132-5072-441b-e4c7-9112a7cbb7b5"
      },
      "execution_count": 1,
      "outputs": [
        {
          "output_type": "stream",
          "name": "stdout",
          "text": [
            "kr : 대한민국\n",
            "us : 미국\n",
            "jp : 일본\n",
            "de : 독일\n",
            "sk : 슬로바키아\n",
            "hu : 헝가리\n",
            "no : 노르웨이\n"
          ]
        }
      ]
    },
    {
      "cell_type": "markdown",
      "source": [
        "8. 딕셔너리에 문제와 정답을 저장하고 하나씩 꺼내서 사용자에게 제시하는 프로그램을 작성해보자. 사용자는 문자열로 답해야 한다. 번호로 답할 수 없다."
      ],
      "metadata": {
        "id": "WgChHF0Dojmx"
      }
    },
    {
      "cell_type": "code",
      "source": [
        "problems = {'파이썬': '최근에 가장 떠오르는 프로그래밍 언어', '변수': '데이터를 저장하는 메모리 공간', '함수': '작업을 수행하는 문장들의 집합에 이름을 붙인 것', '리스트': '서로 관련이 없는 항목들의 모임',}\n",
        "def show_words(problems):\n",
        "  display_message = \"\"\n",
        "  i=1\n",
        "  for word in problems.keys():\n",
        "    display_message += \"(\"+str(i)+\")\"\n",
        "    display_message += word + \"\"\n",
        "    i+=1\n",
        "  print(display_message)\n",
        "for meaning in problems.values():\n",
        "  print(\"다음은 어떤 단어에 대한 설명일까요?\")\n",
        "  print(\"\\\"\"meaning+\"\\\"\")\n",
        "  correct = False\n",
        "  while not correct:\n",
        "    show_words(problems)\n",
        "    guessed_word = input(\"\")\n",
        "    if problems[guessed_word] == meaning:\n",
        "      print(\"정답입니다. !\")\n",
        "      correct = True\n",
        "    else:\n",
        "      print(\"정답이 아닙니다.\")"
      ],
      "metadata": {
        "colab": {
          "base_uri": "https://localhost:8080/",
          "height": 138
        },
        "id": "WcRRrWq2oreW",
        "outputId": "b988ad67-387f-4949-f679-0d4f58511d4d"
      },
      "execution_count": 7,
      "outputs": [
        {
          "output_type": "error",
          "ename": "SyntaxError",
          "evalue": "ignored",
          "traceback": [
            "\u001b[0;36m  File \u001b[0;32m\"<ipython-input-7-579ffd1d1bdd>\"\u001b[0;36m, line \u001b[0;32m12\u001b[0m\n\u001b[0;31m    print(\"\\\"\"meaning+\"\\\"\")\u001b[0m\n\u001b[0m                    ^\u001b[0m\n\u001b[0;31mSyntaxError\u001b[0m\u001b[0;31m:\u001b[0m invalid syntax\n"
          ]
        }
      ]
    },
    {
      "cell_type": "markdown",
      "source": [
        "\"/\"문자의 반대 모양이 \"W\"으로 표시되어 코딩이 불가능합니다. (한글 문자표 붙여넣기도 불가능하고, IDLE 프로그램도 같은 문자로 뜹니다.)"
      ],
      "metadata": {
        "id": "46jZqA4dry0e"
      }
    }
  ]
}